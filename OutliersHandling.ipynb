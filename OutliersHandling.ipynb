{
 "cells": [
  {
   "cell_type": "markdown",
   "id": "83d99eb0-7dc9-43de-830e-afa6ba7ee535",
   "metadata": {},
   "source": [
    "# Outliers Handling"
   ]
  },
  {
   "cell_type": "markdown",
   "id": "0c9808e6-80a3-4997-a523-caf42a8a5929",
   "metadata": {},
   "source": [
    "## Sigma Technique"
   ]
  },
  {
   "cell_type": "code",
   "execution_count": 1,
   "id": "ab6eb0db-a65e-447e-b1c3-0a420526124b",
   "metadata": {},
   "outputs": [],
   "source": [
    "import numpy as np\n",
    "import matplotlib.pyplot as plt\n",
    "import statistics\n",
    "import pandas as pd"
   ]
  },
  {
   "cell_type": "code",
   "execution_count": 2,
   "id": "17522997-34e8-4695-86e6-e932b406178b",
   "metadata": {},
   "outputs": [],
   "source": [
    "data = pd.read_csv(\"raw_sales2.csv\")"
   ]
  },
  {
   "cell_type": "code",
   "execution_count": 3,
   "id": "b353fb12-dd39-4ae9-bf20-cb6dcf283aea",
   "metadata": {},
   "outputs": [
    {
     "data": {
      "text/html": [
       "<div>\n",
       "<style scoped>\n",
       "    .dataframe tbody tr th:only-of-type {\n",
       "        vertical-align: middle;\n",
       "    }\n",
       "\n",
       "    .dataframe tbody tr th {\n",
       "        vertical-align: top;\n",
       "    }\n",
       "\n",
       "    .dataframe thead th {\n",
       "        text-align: right;\n",
       "    }\n",
       "</style>\n",
       "<table border=\"1\" class=\"dataframe\">\n",
       "  <thead>\n",
       "    <tr style=\"text-align: right;\">\n",
       "      <th></th>\n",
       "      <th>datesold</th>\n",
       "      <th>postcode</th>\n",
       "      <th>price</th>\n",
       "      <th>propertyType</th>\n",
       "      <th>bedrooms</th>\n",
       "    </tr>\n",
       "  </thead>\n",
       "  <tbody>\n",
       "    <tr>\n",
       "      <th>0</th>\n",
       "      <td>2007-02-07 00:00:00</td>\n",
       "      <td>2607</td>\n",
       "      <td>525000</td>\n",
       "      <td>house</td>\n",
       "      <td>4</td>\n",
       "    </tr>\n",
       "    <tr>\n",
       "      <th>1</th>\n",
       "      <td>2007-02-27 00:00:00</td>\n",
       "      <td>2906</td>\n",
       "      <td>290000</td>\n",
       "      <td>house</td>\n",
       "      <td>3</td>\n",
       "    </tr>\n",
       "    <tr>\n",
       "      <th>2</th>\n",
       "      <td>2007-03-07 00:00:00</td>\n",
       "      <td>2905</td>\n",
       "      <td>328000</td>\n",
       "      <td>house</td>\n",
       "      <td>3</td>\n",
       "    </tr>\n",
       "    <tr>\n",
       "      <th>3</th>\n",
       "      <td>2007-03-09 00:00:00</td>\n",
       "      <td>2905</td>\n",
       "      <td>380000</td>\n",
       "      <td>house</td>\n",
       "      <td>4</td>\n",
       "    </tr>\n",
       "    <tr>\n",
       "      <th>4</th>\n",
       "      <td>2007-03-21 00:00:00</td>\n",
       "      <td>2906</td>\n",
       "      <td>310000</td>\n",
       "      <td>house</td>\n",
       "      <td>3</td>\n",
       "    </tr>\n",
       "  </tbody>\n",
       "</table>\n",
       "</div>"
      ],
      "text/plain": [
       "              datesold  postcode   price propertyType  bedrooms\n",
       "0  2007-02-07 00:00:00      2607  525000        house         4\n",
       "1  2007-02-27 00:00:00      2906  290000        house         3\n",
       "2  2007-03-07 00:00:00      2905  328000        house         3\n",
       "3  2007-03-09 00:00:00      2905  380000        house         4\n",
       "4  2007-03-21 00:00:00      2906  310000        house         3"
      ]
     },
     "execution_count": 3,
     "metadata": {},
     "output_type": "execute_result"
    }
   ],
   "source": [
    "data.head(5)"
   ]
  },
  {
   "cell_type": "code",
   "execution_count": 5,
   "id": "7346f7a3-2596-4d2b-a9d7-3c43c4ce3e95",
   "metadata": {},
   "outputs": [],
   "source": [
    "# Function to find outliers in one dimensional dataset\n",
    "\n",
    "def find_anomalies(data):\n",
    "    anomalies = []\n",
    "\n",
    "    # Set upper and lower limit to 3 standard deviation\n",
    "    std = statistics.stdev(data)\n",
    "    mean = statistics.mean(data)\n",
    "\n",
    "    anomaly_cut_off = std * 3\n",
    "\n",
    "    lower_limit = mean + anomaly_cut_off\n",
    "    upper_limit = mean + anomaly_cut_off\n",
    "\n",
    "    # Generate outliers\n",
    "\n",
    "    for outlier in data:\n",
    "        if outlier > upper_limit or outlier < lower_limit:\n",
    "            anomalies.append(outlier)\n",
    "\n",
    "    return anomalies"
   ]
  },
  {
   "cell_type": "code",
   "execution_count": 6,
   "id": "ee7de4ba-0a91-453b-9acf-5bccebfca4fb",
   "metadata": {},
   "outputs": [
    {
     "data": {
      "text/plain": [
       "0        525000\n",
       "1        290000\n",
       "2        328000\n",
       "3        380000\n",
       "4        310000\n",
       "          ...  \n",
       "29575    500000\n",
       "29576    560000\n",
       "29577    464950\n",
       "29578    589000\n",
       "29579    775000\n",
       "Name: price, Length: 29580, dtype: int64"
      ]
     },
     "execution_count": 6,
     "metadata": {},
     "output_type": "execute_result"
    }
   ],
   "source": [
    "data.price"
   ]
  },
  {
   "cell_type": "code",
   "execution_count": 25,
   "id": "66a83101-33bb-4e1b-8af5-cf98cc833c42",
   "metadata": {},
   "outputs": [],
   "source": [
    "outlier = find_anomalies(data.price)"
   ]
  },
  {
   "cell_type": "code",
   "execution_count": 26,
   "id": "5ab3ef67-963e-43ae-8238-579c2a06595d",
   "metadata": {},
   "outputs": [
    {
     "name": "stdout",
     "output_type": "stream",
     "text": [
      "29580\n"
     ]
    }
   ],
   "source": [
    "print(len(outlier))"
   ]
  },
  {
   "cell_type": "code",
   "execution_count": 27,
   "id": "c9c0e340-962a-47b6-a048-7df8c83a416f",
   "metadata": {},
   "outputs": [
    {
     "data": {
      "text/plain": [
       "np.float64(4.312009366902366)"
      ]
     },
     "execution_count": 27,
     "metadata": {},
     "output_type": "execute_result"
    }
   ],
   "source": [
    "data.price.skew()"
   ]
  },
  {
   "cell_type": "code",
   "execution_count": 28,
   "id": "be551c2b-4941-42ff-8520-1f4d4aef94a7",
   "metadata": {},
   "outputs": [],
   "source": [
    "import seaborn as sns"
   ]
  },
  {
   "cell_type": "code",
   "execution_count": 29,
   "id": "4db76ce1-5824-47ff-b62a-794ac375e942",
   "metadata": {},
   "outputs": [
    {
     "data": {
      "text/plain": [
       "<Axes: xlabel='price', ylabel='Density'>"
      ]
     },
     "execution_count": 29,
     "metadata": {},
     "output_type": "execute_result"
    },
    {
     "data": {
      "image/png": "[encoded data removed]",
      "text/plain": [
       "<Figure size 640x480 with 1 Axes>"
      ]
     },
     "metadata": {},
     "output_type": "display_data"
    }
   ],
   "source": [
    "sns.kdeplot(data.price)"
   ]
  },
  {
   "cell_type": "code",
   "execution_count": 30,
   "id": "ee6ff0ba-4897-47c9-8cc3-9c3cbeab0f18",
   "metadata": {},
   "outputs": [],
   "source": [
    "data['price_transform'] = np.log(data.price)"
   ]
  },
  {
   "cell_type": "code",
   "execution_count": 31,
   "id": "1ea87dde-e175-4a15-9c45-6d7d021b8adb",
   "metadata": {},
   "outputs": [
    {
     "data": {
      "text/plain": [
       "np.float64(0.4731646269984763)"
      ]
     },
     "execution_count": 31,
     "metadata": {},
     "output_type": "execute_result"
    }
   ],
   "source": [
    "data.price_transform.skew()"
   ]
  },
  {
   "cell_type": "code",
   "execution_count": 32,
   "id": "f2934e22-2312-4f04-92e2-ccbb9f62fd5d",
   "metadata": {},
   "outputs": [],
   "source": [
    "outliers = find_anomalies(data.price_transform)"
   ]
  },
  {
   "cell_type": "code",
   "execution_count": 35,
   "id": "d21b8d87-203a-4858-8872-56c04db9a0bf",
   "metadata": {},
   "outputs": [
    {
     "name": "stdout",
     "output_type": "stream",
     "text": [
      "29580\n"
     ]
    }
   ],
   "source": [
    "print(len(outliers)) # I may have done some mistake here bcuz outliers should be less than, I will cover this in my upcoming project"
   ]
  },
  {
   "cell_type": "code",
   "execution_count": null,
   "id": "f8485e54-d2c0-434f-979a-b92aa19582c9",
   "metadata": {},
   "outputs": [],
   "source": []
  },
  {
   "cell_type": "code",
   "execution_count": null,
   "id": "84bcdf9e-f80f-4b6a-91e2-0b5db05a12ac",
   "metadata": {},
   "outputs": [],
   "source": []
  },
  {
   "cell_type": "code",
   "execution_count": null,
   "id": "61a520c8-faf1-4b0f-ad77-7ae2538b25d3",
   "metadata": {},
   "outputs": [],
   "source": []
  }
 ],
 "metadata": {
  "kernelspec": {
   "display_name": "Python 3 (ipykernel)",
   "language": "python",
   "name": "python3"
  },
  "language_info": {
   "codemirror_mode": {
    "name": "ipython",
    "version": 3
   },
   "file_extension": ".py",
   "mimetype": "text/x-python",
   "name": "python",
   "nbconvert_exporter": "python",
   "pygments_lexer": "ipython3",
   "version": "3.13.5"
  }
 },
 "nbformat": 4,
 "nbformat_minor": 5
}
